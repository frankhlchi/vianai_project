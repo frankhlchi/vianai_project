{
 "cells": [
  {
   "cell_type": "code",
   "execution_count": 1,
   "metadata": {},
   "outputs": [],
   "source": [
    "import pandas as pd\n",
    "import numpy as np\n",
    "import matplotlib.pyplot as plt \n",
    "\n",
    "import warnings\n",
    "warnings.filterwarnings(\"ignore\")"
   ]
  },
  {
   "cell_type": "code",
   "execution_count": 2,
   "metadata": {},
   "outputs": [],
   "source": [
    "taxi_data = pd.read_csv('proceessed_data.csv')"
   ]
  },
  {
   "cell_type": "code",
   "execution_count": 3,
   "metadata": {},
   "outputs": [
    {
     "data": {
      "text/plain": [
       "0.000000    880678\n",
       "0.220000      7777\n",
       "0.200000      7593\n",
       "0.166667      6818\n",
       "0.181818      5751\n",
       "             ...  \n",
       "0.269020         1\n",
       "0.078983         1\n",
       "0.225605         1\n",
       "0.114074         1\n",
       "0.225814         1\n",
       "Name: tip_percentage, Length: 10118, dtype: int64"
      ]
     },
     "execution_count": 3,
     "metadata": {},
     "output_type": "execute_result"
    }
   ],
   "source": [
    "taxi_data['tip_percentage'] = taxi_data['Tip_amount']/taxi_data['Fare_amount']\n",
    "taxi_data['tip_percentage'].value_counts()"
   ]
  },
  {
   "cell_type": "code",
   "execution_count": 4,
   "metadata": {},
   "outputs": [
    {
     "data": {
      "text/plain": [
       "(array([888387.,  29477.,  54132.,  44736., 293858.,  99396.,  45407.,\n",
       "         14459.,   4571.,   1080.]),\n",
       " array([0.        , 0.04973684, 0.09947368, 0.14921053, 0.19894737,\n",
       "        0.24868421, 0.29842105, 0.34815789, 0.39789474, 0.44763158,\n",
       "        0.49736842]),\n",
       " <a list of 10 Patch objects>)"
      ]
     },
     "execution_count": 4,
     "metadata": {},
     "output_type": "execute_result"
    },
    {
     "data": {
      "image/png": "[encoded data removed]",
      "text/plain": [
       "<Figure size 432x288 with 1 Axes>"
      ]
     },
     "metadata": {
      "needs_background": "light"
     },
     "output_type": "display_data"
    }
   ],
   "source": [
    "plt.hist(taxi_data[taxi_data['tip_percentage'] < 0.5 ]['tip_percentage'],bins = 10)"
   ]
  },
  {
   "cell_type": "code",
   "execution_count": 5,
   "metadata": {
    "scrolled": true
   },
   "outputs": [],
   "source": [
    "taxi_data['route'] = taxi_data.apply(lambda x: str(x.loc_id_Pickup) + '_' + str(x.loc_id_Dropoff),axis=1)\n",
    "x_col = ['VendorID','RateCodeID','Passenger_count','Trip_distance','duration',\\\n",
    "         'Trip_type','Payment_type','pickup_week','pickup_hour','dropoff_hour','loc_id_Pickup','loc_id_Dropoff','route']\n",
    "y_col = ['tip_percentage']\n",
    "\n",
    "taxi_data_for_model = taxi_data[x_col + y_col]\n",
    "taxi_data_for_model['duration'] = pd.to_timedelta(taxi_data_for_model['duration']).astype('int')/1000000000\n",
    "taxi_data_for_model['pickup_week'] = taxi_data_for_model['pickup_week'].astype('str')\n",
    "taxi_data_for_model['pickup_hour'] = taxi_data_for_model['pickup_hour'].astype('str')\n",
    "taxi_data_for_model['dropoff_hour'] = taxi_data_for_model['dropoff_hour'].astype('str')\n",
    "\n",
    "taxi_data_for_model.VendorID = taxi_data_for_model.VendorID.astype('str')\n",
    "taxi_data_for_model.RateCodeID  = taxi_data_for_model.RateCodeID.astype('str')\n",
    "taxi_data_for_model.Trip_type = taxi_data_for_model.Trip_type.astype('str')\n",
    "taxi_data_for_model.Payment_type  = taxi_data_for_model.Payment_type.astype('str')"
   ]
  },
  {
   "cell_type": "code",
   "execution_count": 6,
   "metadata": {},
   "outputs": [],
   "source": [
    "thres_order_num = 300\n",
    "route_set = taxi_data_for_model['route'].value_counts()\\\n",
    "        [taxi_data_for_model['route'].value_counts()> thres_order_num].index\n",
    "taxi_data_for_model.route = taxi_data_for_model.route.apply(lambda x: x if x in route_set else  'minor_route')"
   ]
  },
  {
   "cell_type": "code",
   "execution_count": 7,
   "metadata": {},
   "outputs": [],
   "source": [
    "taxi_data_for_model_dummy = pd.get_dummies(taxi_data_for_model[x_col])"
   ]
  },
  {
   "cell_type": "code",
   "execution_count": 8,
   "metadata": {},
   "outputs": [],
   "source": [
    "from sklearn.model_selection import train_test_split\n",
    "X_train, X_test, y_train, y_test = \\\n",
    "        train_test_split(taxi_data_for_model_dummy, taxi_data_for_model[y_col], test_size=0.2)"
   ]
  },
  {
   "cell_type": "code",
   "execution_count": null,
   "metadata": {},
   "outputs": [],
   "source": [
    "import xgboost\n",
    "model = xgboost.XGBRegressor(n_estimators =100, n_jobs = -1)\n",
    "model.fit(X_train,y_train)"
   ]
  },
  {
   "cell_type": "code",
   "execution_count": null,
   "metadata": {},
   "outputs": [],
   "source": [
    "preds = model.predict(X_test)"
   ]
  },
  {
   "cell_type": "code",
   "execution_count": null,
   "metadata": {},
   "outputs": [],
   "source": [
    "preds[preds <0] = 0"
   ]
  },
  {
   "cell_type": "code",
   "execution_count": null,
   "metadata": {},
   "outputs": [],
   "source": [
    "np.square(np.subtract(y_test.values.reshape(1,-1),preds)).mean() "
   ]
  },
  {
   "cell_type": "code",
   "execution_count": null,
   "metadata": {},
   "outputs": [],
   "source": [
    "np.quantile(preds, 0.99)"
   ]
  },
  {
   "cell_type": "code",
   "execution_count": 39,
   "metadata": {},
   "outputs": [
    {
     "data": {
      "text/plain": [
       "array([[0.        , 0.        , 0.        , ..., 0.        , 0.        ,\n",
       "        0.21083333]])"
      ]
     },
     "execution_count": 39,
     "metadata": {},
     "output_type": "execute_result"
    }
   ],
   "source": [
    "y_test.values.reshape(1,-1)"
   ]
  },
  {
   "cell_type": "code",
   "execution_count": 51,
   "metadata": {},
   "outputs": [
    {
     "data": {
      "text/plain": [
       "array([0.00616326, 0.00468824, 0.0050897 , ..., 0.00406556, 0.01481139,\n",
       "       0.00196015], dtype=float32)"
      ]
     },
     "execution_count": 51,
     "metadata": {},
     "output_type": "execute_result"
    }
   ],
   "source": [
    "model.feature_importances_"
   ]
  },
  {
   "cell_type": "code",
   "execution_count": 57,
   "metadata": {},
   "outputs": [],
   "source": [
    "feature_df = pd.DataFrame()\n",
    "feature_df['name'] = model._Booster.feature_names\n",
    "feature_df['importance'] = model.feature_importances_"
   ]
  },
  {
   "cell_type": "code",
   "execution_count": 58,
   "metadata": {},
   "outputs": [
    {
     "data": {
      "text/html": [
       "<div>\n",
       "<style scoped>\n",
       "    .dataframe tbody tr th:only-of-type {\n",
       "        vertical-align: middle;\n",
       "    }\n",
       "\n",
       "    .dataframe tbody tr th {\n",
       "        vertical-align: top;\n",
       "    }\n",
       "\n",
       "    .dataframe thead th {\n",
       "        text-align: right;\n",
       "    }\n",
       "</style>\n",
       "<table border=\"1\" class=\"dataframe\">\n",
       "  <thead>\n",
       "    <tr style=\"text-align: right;\">\n",
       "      <th></th>\n",
       "      <th>name</th>\n",
       "      <th>importance</th>\n",
       "    </tr>\n",
       "  </thead>\n",
       "  <tbody>\n",
       "    <tr>\n",
       "      <th>400</th>\n",
       "      <td>loc_id_Dropoff_193</td>\n",
       "      <td>0.140102</td>\n",
       "    </tr>\n",
       "    <tr>\n",
       "      <th>255</th>\n",
       "      <td>loc_id_Pickup_55</td>\n",
       "      <td>0.058972</td>\n",
       "    </tr>\n",
       "    <tr>\n",
       "      <th>37</th>\n",
       "      <td>pickup_hour_2</td>\n",
       "      <td>0.057964</td>\n",
       "    </tr>\n",
       "    <tr>\n",
       "      <th>236</th>\n",
       "      <td>loc_id_Pickup_37</td>\n",
       "      <td>0.037515</td>\n",
       "    </tr>\n",
       "    <tr>\n",
       "      <th>21</th>\n",
       "      <td>pickup_week_3</td>\n",
       "      <td>0.034143</td>\n",
       "    </tr>\n",
       "    <tr>\n",
       "      <th>509</th>\n",
       "      <td>loc_id_Dropoff_55</td>\n",
       "      <td>0.033106</td>\n",
       "    </tr>\n",
       "    <tr>\n",
       "      <th>261</th>\n",
       "      <td>loc_id_Pickup_61</td>\n",
       "      <td>0.030444</td>\n",
       "    </tr>\n",
       "    <tr>\n",
       "      <th>373</th>\n",
       "      <td>loc_id_Dropoff_169</td>\n",
       "      <td>0.026452</td>\n",
       "    </tr>\n",
       "    <tr>\n",
       "      <th>42</th>\n",
       "      <td>pickup_hour_3</td>\n",
       "      <td>0.024538</td>\n",
       "    </tr>\n",
       "    <tr>\n",
       "      <th>299</th>\n",
       "      <td>loc_id_Pickup_others</td>\n",
       "      <td>0.021222</td>\n",
       "    </tr>\n",
       "    <tr>\n",
       "      <th>148</th>\n",
       "      <td>loc_id_Pickup_188</td>\n",
       "      <td>0.020784</td>\n",
       "    </tr>\n",
       "    <tr>\n",
       "      <th>5</th>\n",
       "      <td>RateCodeID_1</td>\n",
       "      <td>0.020144</td>\n",
       "    </tr>\n",
       "    <tr>\n",
       "      <th>554</th>\n",
       "      <td>loc_id_Dropoff_97</td>\n",
       "      <td>0.018946</td>\n",
       "    </tr>\n",
       "    <tr>\n",
       "      <th>1053</th>\n",
       "      <td>route_37_37</td>\n",
       "      <td>0.018924</td>\n",
       "    </tr>\n",
       "    <tr>\n",
       "      <th>18</th>\n",
       "      <td>pickup_week_0</td>\n",
       "      <td>0.017316</td>\n",
       "    </tr>\n",
       "    <tr>\n",
       "      <th>1456</th>\n",
       "      <td>route_minor_route</td>\n",
       "      <td>0.014811</td>\n",
       "    </tr>\n",
       "    <tr>\n",
       "      <th>285</th>\n",
       "      <td>loc_id_Pickup_85</td>\n",
       "      <td>0.013473</td>\n",
       "    </tr>\n",
       "    <tr>\n",
       "      <th>32</th>\n",
       "      <td>pickup_hour_15</td>\n",
       "      <td>0.012889</td>\n",
       "    </tr>\n",
       "    <tr>\n",
       "      <th>73</th>\n",
       "      <td>loc_id_Pickup_1</td>\n",
       "      <td>0.011658</td>\n",
       "    </tr>\n",
       "    <tr>\n",
       "      <th>520</th>\n",
       "      <td>loc_id_Dropoff_66</td>\n",
       "      <td>0.010474</td>\n",
       "    </tr>\n",
       "  </tbody>\n",
       "</table>\n",
       "</div>"
      ],
      "text/plain": [
       "                      name  importance\n",
       "400     loc_id_Dropoff_193    0.140102\n",
       "255       loc_id_Pickup_55    0.058972\n",
       "37           pickup_hour_2    0.057964\n",
       "236       loc_id_Pickup_37    0.037515\n",
       "21           pickup_week_3    0.034143\n",
       "509      loc_id_Dropoff_55    0.033106\n",
       "261       loc_id_Pickup_61    0.030444\n",
       "373     loc_id_Dropoff_169    0.026452\n",
       "42           pickup_hour_3    0.024538\n",
       "299   loc_id_Pickup_others    0.021222\n",
       "148      loc_id_Pickup_188    0.020784\n",
       "5             RateCodeID_1    0.020144\n",
       "554      loc_id_Dropoff_97    0.018946\n",
       "1053           route_37_37    0.018924\n",
       "18           pickup_week_0    0.017316\n",
       "1456     route_minor_route    0.014811\n",
       "285       loc_id_Pickup_85    0.013473\n",
       "32          pickup_hour_15    0.012889\n",
       "73         loc_id_Pickup_1    0.011658\n",
       "520      loc_id_Dropoff_66    0.010474"
      ]
     },
     "execution_count": 58,
     "metadata": {},
     "output_type": "execute_result"
    }
   ],
   "source": [
    "feature_df.sort_values('importance',ascending = False)[:20]"
   ]
  },
  {
   "cell_type": "code",
   "execution_count": null,
   "metadata": {},
   "outputs": [],
   "source": []
  }
 ],
 "metadata": {
  "kernelspec": {
   "display_name": "Python 3",
   "language": "python",
   "name": "python3"
  },
  "language_info": {
   "codemirror_mode": {
    "name": "ipython",
    "version": 3
   },
   "file_extension": ".py",
   "mimetype": "text/x-python",
   "name": "python",
   "nbconvert_exporter": "python",
   "pygments_lexer": "ipython3",
   "version": "3.7.2"
  },
  "toc": {
   "base_numbering": 1,
   "nav_menu": {},
   "number_sections": true,
   "sideBar": true,
   "skip_h1_title": false,
   "title_cell": "Table of Contents",
   "title_sidebar": "Contents",
   "toc_cell": false,
   "toc_position": {},
   "toc_section_display": true,
   "toc_window_display": false
  }
 },
 "nbformat": 4,
 "nbformat_minor": 4
}
